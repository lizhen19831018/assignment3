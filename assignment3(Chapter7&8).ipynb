{
 "cells": [
  {
   "cell_type": "code",
   "execution_count": 9,
   "metadata": {},
   "outputs": [
    {
     "name": "stdout",
     "output_type": "stream",
     "text": [
      "Enter the file name: mbox.txt\n",
      "Average spam confidence: 0.8941280467445736\n"
     ]
    }
   ],
   "source": [
    "#Chapter 7 Exercise 2\n",
    "def calculateAverage(fname):\n",
    "    try:\n",
    "        fhand = open(fname);\n",
    "    except:\n",
    "        print('File cannot be opened:' + fname)\n",
    "        exit()\n",
    "        \n",
    "    count = 0\n",
    "    summary = 0\n",
    "    for line in fhand:\n",
    "        line.rstrip()\n",
    "        if line.startswith('X-DSPAM-Confidence: '):\n",
    "            summary = summary + float(line[line.find(':') + 1::])\n",
    "            count += 1\n",
    "    print('Average spam confidence: ' + str(summary / count))\n",
    "\n",
    "fname = input('Enter the file name: ')\n",
    "calculateAverage(fname)"
   ]
  },
  {
   "cell_type": "code",
   "execution_count": 10,
   "metadata": {},
   "outputs": [
    {
     "name": "stdout",
     "output_type": "stream",
     "text": [
      "Enter the file name: mbox-short.txt\n",
      "Average spam confidence: 0.7507185185185187\n"
     ]
    }
   ],
   "source": [
    "fname = input('Enter the file name: ')\n",
    "calculateAverage(fname)"
   ]
  },
  {
   "cell_type": "code",
   "execution_count": 11,
   "metadata": {},
   "outputs": [
    {
     "name": "stdout",
     "output_type": "stream",
     "text": [
      "Enter the file name: romeo.txt\n",
      "['Arise', 'But', 'It', 'Juliet', 'Who', 'already', 'and', 'breaks', 'east', 'envious', 'fair', 'grief', 'is', 'kill', 'light', 'moon', 'pale', 'sick', 'soft', 'sun', 'the', 'through', 'what', 'window', 'with', 'yonder']\n"
     ]
    }
   ],
   "source": [
    "#Chapter 8 Exercise 4\n",
    "fname = input('Enter the file name: ')\n",
    "try:\n",
    "    fhand = open(fname)\n",
    "except:\n",
    "    print('File cannot be opened: ' + fname)\n",
    "    exit()\n",
    "    \n",
    "fileList = []\n",
    "for line in fhand:\n",
    "    line.rstrip()\n",
    "    words = line.split()\n",
    "    for word in words:\n",
    "        if word not in fileList:\n",
    "            fileList.append(word)\n",
    "            \n",
    "print(sorted(fileList))"
   ]
  },
  {
   "cell_type": "code",
   "execution_count": 12,
   "metadata": {},
   "outputs": [
    {
     "name": "stdout",
     "output_type": "stream",
     "text": [
      "Enter the file name: mbox-short.txt\n",
      "stephen.marquard@uct.ac.za\n",
      "louis@media.berkeley.edu\n",
      "zqian@umich.edu\n",
      "rjlowe@iupui.edu\n",
      "zqian@umich.edu\n",
      "rjlowe@iupui.edu\n",
      "cwen@iupui.edu\n",
      "cwen@iupui.edu\n",
      "gsilver@umich.edu\n",
      "gsilver@umich.edu\n",
      "zqian@umich.edu\n",
      "gsilver@umich.edu\n",
      "wagnermr@iupui.edu\n",
      "zqian@umich.edu\n",
      "antranig@caret.cam.ac.uk\n",
      "gopal.ramasammycook@gmail.com\n",
      "david.horwitz@uct.ac.za\n",
      "david.horwitz@uct.ac.za\n",
      "david.horwitz@uct.ac.za\n",
      "david.horwitz@uct.ac.za\n",
      "stephen.marquard@uct.ac.za\n",
      "louis@media.berkeley.edu\n",
      "louis@media.berkeley.edu\n",
      "ray@media.berkeley.edu\n",
      "cwen@iupui.edu\n",
      "cwen@iupui.edu\n",
      "cwen@iupui.edu\n",
      "There were 27 lines in the file with From as the first word\n"
     ]
    }
   ],
   "source": [
    "#Chapter 8 Exercise 5\n",
    "fname = input('Enter the file name: ')\n",
    "try:\n",
    "    fhand = open(fname)\n",
    "except:\n",
    "    print('File cannot be opened: ' + fname)\n",
    "    exit()\n",
    "\n",
    "addresses = list()\n",
    "for line in fhand:\n",
    "    line.rstrip()\n",
    "    words = line.split()\n",
    "    if len(words) == 0 : \n",
    "        continue\n",
    "    if words[0] != 'From' : \n",
    "        continue\n",
    "    else:\n",
    "        addresses.append(words[1])\n",
    "\n",
    "for address in addresses:\n",
    "    print(address)\n",
    "print('There were ' + str(len(addresses)) + ' lines in the file with From as the first word')\n",
    "        "
   ]
  },
  {
   "cell_type": "code",
   "execution_count": null,
   "metadata": {},
   "outputs": [],
   "source": []
  }
 ],
 "metadata": {
  "kernelspec": {
   "display_name": "Python 3",
   "language": "python",
   "name": "python3"
  },
  "language_info": {
   "codemirror_mode": {
    "name": "ipython",
    "version": 3
   },
   "file_extension": ".py",
   "mimetype": "text/x-python",
   "name": "python",
   "nbconvert_exporter": "python",
   "pygments_lexer": "ipython3",
   "version": "3.7.3"
  }
 },
 "nbformat": 4,
 "nbformat_minor": 2
}
