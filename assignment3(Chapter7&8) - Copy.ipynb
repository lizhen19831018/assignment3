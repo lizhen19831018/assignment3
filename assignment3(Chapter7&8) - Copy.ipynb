{
 "cells": [
  {
   "cell_type": "code",
   "execution_count": 3,
   "metadata": {},
   "outputs": [
    {
     "name": "stdout",
     "output_type": "stream",
     "text": [
      "Enter the file name: mbox.txt\n",
      "Average spam confidence: 0.8941280467445736\n"
     ]
    }
   ],
   "source": [
    "#Chapter 7 Exercise 2\n",
    "def calculateAverage(fname):\n",
    "    try:\n",
    "        fhand = open(fname);\n",
    "    except:\n",
    "        print('File cannot be opened:' + fname)\n",
    "        exit()\n",
    "        \n",
    "    count = 0\n",
    "    summary = 0\n",
    "    for line in fhand:\n",
    "        if line.startswith('X-DSPAM-Confidence: '):\n",
    "            summary = summary + float(line[len('X-DSPAM-Confidence: ') - 1::])\n",
    "            count = count + 1\n",
    "    print('Average spam confidence: ' + str(summary / count))\n",
    "\n",
    "fname = input('Enter the file name: ')\n",
    "calculateAverage(fname)"
   ]
  }
 ],
 "metadata": {
  "kernelspec": {
   "display_name": "Python 3",
   "language": "python",
   "name": "python3"
  },
  "language_info": {
   "codemirror_mode": {
    "name": "ipython",
    "version": 3
   },
   "file_extension": ".py",
   "mimetype": "text/x-python",
   "name": "python",
   "nbconvert_exporter": "python",
   "pygments_lexer": "ipython3",
   "version": "3.7.3"
  }
 },
 "nbformat": 4,
 "nbformat_minor": 2
}
